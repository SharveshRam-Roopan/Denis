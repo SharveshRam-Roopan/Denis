{
 "cells": [
  {
   "cell_type": "code",
   "execution_count": 0,
   "metadata": {
    "application/vnd.databricks.v1+cell": {
     "cellMetadata": {
      "byteLimit": 2048000,
      "rowLimit": 10000
     },
     "inputWidgets": {},
     "nuid": "35d0a901-44fe-4b1e-89ed-8ddebd8c2921",
     "showTitle": false,
     "title": ""
    }
   },
   "outputs": [],
   "source": [
    "import pyspark\n",
    "from pyspark.sql import DataFrameWriter\n",
    "import pandas as pd\n",
    "from pyspark.sql.functions import *"
   ]
  },
  {
   "cell_type": "code",
   "execution_count": 0,
   "metadata": {
    "application/vnd.databricks.v1+cell": {
     "cellMetadata": {
      "byteLimit": 2048000,
      "rowLimit": 10000
     },
     "inputWidgets": {},
     "nuid": "9fd2e3b8-1848-4c68-9b9c-71a3f36f05f6",
     "showTitle": false,
     "title": ""
    }
   },
   "outputs": [],
   "source": [
    "spark.conf.set(\"fs.azure.account.key.carehealthcareblobsa.dfs.core.windows.net\",\n",
    "    dbutils.secrets.get(scope=\"healthcarescope\", key=\"blobaccesskey\"))"
   ]
  },
  {
   "cell_type": "code",
   "execution_count": 0,
   "metadata": {
    "application/vnd.databricks.v1+cell": {
     "cellMetadata": {
      "byteLimit": 2048000,
      "rowLimit": 10000
     },
     "inputWidgets": {},
     "nuid": "817f17ba-202d-43c9-816d-f1696614ec5a",
     "showTitle": false,
     "title": ""
    }
   },
   "outputs": [],
   "source": [
    "patient_data = spark.read.csv(\"abfss://rawhealthcaredata@carehealthcareblobsa.dfs.core.windows.net/Patient_records.csv\", header=True, inferSchema=True)"
   ]
  },
  {
   "cell_type": "code",
   "execution_count": 0,
   "metadata": {
    "application/vnd.databricks.v1+cell": {
     "cellMetadata": {
      "byteLimit": 2048000,
      "rowLimit": 10000
     },
     "inputWidgets": {},
     "nuid": "16a933b7-2ec6-44a8-9c29-19b7fee6e01a",
     "showTitle": false,
     "title": ""
    }
   },
   "outputs": [
    {
     "output_type": "stream",
     "name": "stdout",
     "output_type": "stream",
     "text": [
      "+----------+------------+--------------+------------------+--------------+----------------+------------+-----------+\n|Patient_id|Patient_name|patient_gender|patient_birth_date|patient_phone |disease_name    |city        |hospital_id|\n+----------+------------+--------------+------------------+--------------+----------------+------------+-----------+\n|187158    |Harbir      |Female        |1924-06-30        |+91 0112009318|Galactosemia    |Rourkela    |H1001      |\n|112766    |Brahmdev    |Female        |1948-12-20        |+91 1727749552|Bladder cancer  |Tiruvottiyur|H1016      |\n|199252    |Ujjawal     |Male          |1980-04-16        |+91 8547451606|Kidney cancer   |Berhampur   |H1009      |\n|133424    |Ballari     |Female        |1969-09-25        |+91 0106026841|Suicide         |Bihar Sharif|H1017      |\n|172579    |Devnath     |Female        |1946-05-01        |+91 1868774631|Food allergy    |Bidhannagar |H1019      |\n|171320    |Atasi       |Male          |1967-10-02        |+91 9747336855|Whiplash        |Amravati    |H1013      |\n|107794    |Manish      |Male          |1967-06-06        |+91 4354294043|Sunbathing      |Panvel      |H1004      |\n|130339    |Aakar       |Female        |1925-03-05        |+91 2777633911|Drug consumption|Bihar Sharif|H1000      |\n|110377    |Gurudas     |Male          |1945-05-06        |+91 1232859381|Dengue          |Kamarhati   |H1001      |\n|149367    |NULL        |Male          |1925-06-12        |+91 1780763280|Head banging    |Bangalore   |H1013      |\n+----------+------------+--------------+------------------+--------------+----------------+------------+-----------+\nonly showing top 10 rows\n\n"
     ]
    }
   ],
   "source": [
    "#patient_data.show(10,False)"
   ]
  },
  {
   "cell_type": "code",
   "execution_count": 0,
   "metadata": {
    "application/vnd.databricks.v1+cell": {
     "cellMetadata": {
      "byteLimit": 2048000,
      "rowLimit": 10000
     },
     "inputWidgets": {},
     "nuid": "fba3acfd-801a-43d1-8ffa-d0e21733aeef",
     "showTitle": false,
     "title": ""
    }
   },
   "outputs": [
    {
     "output_type": "stream",
     "name": "stdout",
     "output_type": "stream",
     "text": [
      "root\n |-- Patient_id: integer (nullable = true)\n |-- Patient_name: string (nullable = true)\n |-- patient_gender: string (nullable = true)\n |-- patient_birth_date: date (nullable = true)\n |-- patient_phone: string (nullable = true)\n |-- disease_name: string (nullable = true)\n |-- city: string (nullable = true)\n |-- hospital_id: string (nullable = true)\n\n"
     ]
    }
   ],
   "source": [
    "#patient_data.printSchema()"
   ]
  },
  {
   "cell_type": "code",
   "execution_count": 0,
   "metadata": {
    "application/vnd.databricks.v1+cell": {
     "cellMetadata": {
      "byteLimit": 2048000,
      "rowLimit": 10000
     },
     "inputWidgets": {},
     "nuid": "a928ef10-ebd8-45e3-9e62-3c0f34692f0d",
     "showTitle": false,
     "title": ""
    }
   },
   "outputs": [],
   "source": [
    "patent_trans_data = patient_data.select(\"Patient_id\",\"Patient_name\",\"patient_gender\",\"patient_birth_date\",\"disease_name\",\"city\",\"hospital_id\").distinct()"
   ]
  },
  {
   "cell_type": "code",
   "execution_count": 0,
   "metadata": {
    "application/vnd.databricks.v1+cell": {
     "cellMetadata": {
      "byteLimit": 2048000,
      "rowLimit": 10000
     },
     "inputWidgets": {},
     "nuid": "be7d69f1-91d7-4003-a8c2-a2706af0fa6d",
     "showTitle": false,
     "title": ""
    }
   },
   "outputs": [
    {
     "output_type": "stream",
     "name": "stdout",
     "output_type": "stream",
     "text": [
      "+----------+------------+--------------+------------------+-------------+------------+----+-----------+\n|Patient_id|Patient_name|patient_gender|patient_birth_date|patient_phone|disease_name|city|hospital_id|\n+----------+------------+--------------+------------------+-------------+------------+----+-----------+\n|         0|          17|             0|                 0|            2|           0|   0|          0|\n+----------+------------+--------------+------------------+-------------+------------+----+-----------+\n\n"
     ]
    }
   ],
   "source": [
    "#patient_data.select([count(when(col(c).isNull(), c)).alias(c) for c in patient_data.columns]).show()"
   ]
  },
  {
   "cell_type": "code",
   "execution_count": 0,
   "metadata": {
    "application/vnd.databricks.v1+cell": {
     "cellMetadata": {
      "byteLimit": 2048000,
      "rowLimit": 10000
     },
     "inputWidgets": {},
     "nuid": "fb3d4f5c-3a2f-451c-ae1a-2fa6ebe96abf",
     "showTitle": false,
     "title": ""
    }
   },
   "outputs": [
    {
     "output_type": "stream",
     "name": "stdout",
     "output_type": "stream",
     "text": [
      "+----------+------------+--------------+------------------+-------------+------------+----+-----------+-----+\n|Patient_id|Patient_name|patient_gender|patient_birth_date|patient_phone|disease_name|city|hospital_id|count|\n+----------+------------+--------------+------------------+-------------+------------+----+-----------+-----+\n+----------+------------+--------------+------------------+-------------+------------+----+-----------+-----+\n\n"
     ]
    }
   ],
   "source": [
    "#patient_data.groupby(patient_data.columns).count().where(\"count > 1\").show() "
   ]
  },
  {
   "cell_type": "code",
   "execution_count": 0,
   "metadata": {
    "application/vnd.databricks.v1+cell": {
     "cellMetadata": {
      "byteLimit": 2048000,
      "rowLimit": 10000
     },
     "inputWidgets": {},
     "nuid": "82bc437a-5cb8-44c3-bc80-6c0205f36db1",
     "showTitle": false,
     "title": ""
    }
   },
   "outputs": [],
   "source": [
    "patient_data = patient_data.dropDuplicates()"
   ]
  },
  {
   "cell_type": "code",
   "execution_count": 0,
   "metadata": {
    "application/vnd.databricks.v1+cell": {
     "cellMetadata": {
      "byteLimit": 2048000,
      "rowLimit": 10000
     },
     "inputWidgets": {},
     "nuid": "18a9c421-8305-460a-9a54-81bdec9a8a73",
     "showTitle": false,
     "title": ""
    }
   },
   "outputs": [
    {
     "output_type": "stream",
     "name": "stdout",
     "output_type": "stream",
     "text": [
      "+----------+------------+--------------+------------------+-------------------+--------------+-----------+\n|Patient_id|Patient_name|patient_gender|patient_birth_date|       disease_name|          city|hospital_id|\n+----------+------------+--------------+------------------+-------------------+--------------+-----------+\n|    197503|        NULL|        Female|        1968-07-02|             Stroke|       Gwalior|      H1009|\n|    162665|    Kanhaiya|        Female|        1954-10-19|Alcohol consumption|        Mysore|      H1009|\n|    122592|  Vaijayanti|          Male|        1920-11-13|            Cholera|Mira-Bhayandar|      H1009|\n|    150189|     Dheeman|          Male|        1945-05-04|            Measles|        Mysore|      H1017|\n|    117945|        NULL|          Male|        1955-12-24|           Glaucoma|    Karimnagar|      H1009|\n+----------+------------+--------------+------------------+-------------------+--------------+-----------+\nonly showing top 5 rows\n\n"
     ]
    }
   ],
   "source": [
    "#patent_trans_data.show(5)"
   ]
  },
  {
   "cell_type": "code",
   "execution_count": 0,
   "metadata": {
    "application/vnd.databricks.v1+cell": {
     "cellMetadata": {
      "byteLimit": 2048000,
      "rowLimit": 10000
     },
     "inputWidgets": {},
     "nuid": "a9b8aa9c-a5a3-4e1b-8302-61f747c06f8f",
     "showTitle": false,
     "title": ""
    }
   },
   "outputs": [],
   "source": [
    "patent_trans_data = patent_trans_data.fillna({\"Patient_name\":\"Guest/NA\"})"
   ]
  },
  {
   "cell_type": "code",
   "execution_count": 0,
   "metadata": {
    "application/vnd.databricks.v1+cell": {
     "cellMetadata": {
      "byteLimit": 2048000,
      "rowLimit": 10000
     },
     "inputWidgets": {},
     "nuid": "d5f78c20-0f29-4ecd-958d-68a9d057a27f",
     "showTitle": false,
     "title": ""
    }
   },
   "outputs": [
    {
     "output_type": "stream",
     "name": "stdout",
     "output_type": "stream",
     "text": [
      "+----------+------------+--------------+------------------+-------------------+--------------+-----------+\n|Patient_id|Patient_name|patient_gender|patient_birth_date|disease_name       |city          |hospital_id|\n+----------+------------+--------------+------------------+-------------------+--------------+-----------+\n|197503    |Guest/NA    |Female        |1968-07-02        |Stroke             |Gwalior       |H1009      |\n|162665    |Kanhaiya    |Female        |1954-10-19        |Alcohol consumption|Mysore        |H1009      |\n|122592    |Vaijayanti  |Male          |1920-11-13        |Cholera            |Mira-Bhayandar|H1009      |\n|150189    |Dheeman     |Male          |1945-05-04        |Measles            |Mysore        |H1017      |\n|117945    |Guest/NA    |Male          |1955-12-24        |Glaucoma           |Karimnagar    |H1009      |\n+----------+------------+--------------+------------------+-------------------+--------------+-----------+\nonly showing top 5 rows\n\n"
     ]
    }
   ],
   "source": [
    "#patent_trans_data.show(5,False)"
   ]
  },
  {
   "cell_type": "code",
   "execution_count": 0,
   "metadata": {
    "application/vnd.databricks.v1+cell": {
     "cellMetadata": {
      "byteLimit": 2048000,
      "rowLimit": 10000
     },
     "inputWidgets": {},
     "nuid": "49a253c4-59ac-441b-b448-5b62ce23fbab",
     "showTitle": false,
     "title": ""
    }
   },
   "outputs": [],
   "source": [
    "patent_trans_data = patent_trans_data.withColumn(\"Patient_age\", (months_between(current_date(), col('patient_birth_date'))/12).cast(\"int\"))"
   ]
  },
  {
   "cell_type": "code",
   "execution_count": 0,
   "metadata": {
    "application/vnd.databricks.v1+cell": {
     "cellMetadata": {
      "byteLimit": 2048000,
      "rowLimit": 10000
     },
     "inputWidgets": {},
     "nuid": "4529def7-1626-4add-aa8f-3c13a206b238",
     "showTitle": false,
     "title": ""
    }
   },
   "outputs": [
    {
     "output_type": "stream",
     "name": "stdout",
     "output_type": "stream",
     "text": [
      "+----------+------------+--------------+------------------+-------------------+--------------+-----------+-----------+\n|Patient_id|Patient_name|patient_gender|patient_birth_date|disease_name       |city          |hospital_id|Patient_age|\n+----------+------------+--------------+------------------+-------------------+--------------+-----------+-----------+\n|197503    |Guest/NA    |Female        |1968-07-02        |Stroke             |Gwalior       |H1009      |55         |\n|162665    |Kanhaiya    |Female        |1954-10-19        |Alcohol consumption|Mysore        |H1009      |69         |\n|122592    |Vaijayanti  |Male          |1920-11-13        |Cholera            |Mira-Bhayandar|H1009      |103        |\n|150189    |Dheeman     |Male          |1945-05-04        |Measles            |Mysore        |H1017      |78         |\n|117945    |Guest/NA    |Male          |1955-12-24        |Glaucoma           |Karimnagar    |H1009      |67         |\n|130339    |Aakar       |Female        |1925-03-05        |Drug consumption   |Bihar Sharif  |H1000      |98         |\n+----------+------------+--------------+------------------+-------------------+--------------+-----------+-----------+\nonly showing top 6 rows\n\n"
     ]
    }
   ],
   "source": [
    "#atent_trans_data.show(6,False)"
   ]
  },
  {
   "cell_type": "code",
   "execution_count": 0,
   "metadata": {
    "application/vnd.databricks.v1+cell": {
     "cellMetadata": {
      "byteLimit": 2048000,
      "rowLimit": 10000
     },
     "inputWidgets": {},
     "nuid": "79d005ae-d981-416e-83b7-c1c907be211a",
     "showTitle": false,
     "title": ""
    }
   },
   "outputs": [],
   "source": [
    "patent_trans_data = patent_trans_data.drop(col(\"patient_birth_date\"))"
   ]
  },
  {
   "cell_type": "code",
   "execution_count": 0,
   "metadata": {
    "application/vnd.databricks.v1+cell": {
     "cellMetadata": {
      "byteLimit": 2048000,
      "rowLimit": 10000
     },
     "inputWidgets": {},
     "nuid": "0ac3f2ba-0cec-4032-a1f5-3a2aa314d918",
     "showTitle": false,
     "title": ""
    }
   },
   "outputs": [
    {
     "output_type": "stream",
     "name": "stdout",
     "output_type": "stream",
     "text": [
      "+----------+------------+--------------+-------------------+--------------+-----------+-----------+\n|Patient_id|Patient_name|patient_gender|disease_name       |city          |hospital_id|Patient_age|\n+----------+------------+--------------+-------------------+--------------+-----------+-----------+\n|197503    |Guest/NA    |Female        |Stroke             |Gwalior       |H1009      |55         |\n|162665    |Kanhaiya    |Female        |Alcohol consumption|Mysore        |H1009      |69         |\n|122592    |Vaijayanti  |Male          |Cholera            |Mira-Bhayandar|H1009      |103        |\n|150189    |Dheeman     |Male          |Measles            |Mysore        |H1017      |78         |\n|117945    |Guest/NA    |Male          |Glaucoma           |Karimnagar    |H1009      |67         |\n+----------+------------+--------------+-------------------+--------------+-----------+-----------+\nonly showing top 5 rows\n\n"
     ]
    }
   ],
   "source": [
    "#patent_trans_data.show(5,False)"
   ]
  },
  {
   "cell_type": "code",
   "execution_count": 0,
   "metadata": {
    "application/vnd.databricks.v1+cell": {
     "cellMetadata": {
      "byteLimit": 2048000,
      "rowLimit": 10000
     },
     "inputWidgets": {},
     "nuid": "85dd2f56-4b61-4cde-9c20-8c067b0bc0ad",
     "showTitle": false,
     "title": ""
    }
   },
   "outputs": [
    {
     "output_type": "stream",
     "name": "stdout",
     "output_type": "stream",
     "text": [
      "+----------+------------+--------------+--------------+--------+-----------+-----------+\n|Patient_id|Patient_name|patient_gender|  disease_name|    city|hospital_id|Patient_age|\n+----------+------------+--------------+--------------+--------+-----------+-----------+\n|    121783|     Paridhi|        Female|Bladder cancer|Jabalpur|      H1013|         64|\n+----------+------------+--------------+--------------+--------+-----------+-----------+\n\n"
     ]
    }
   ],
   "source": [
    "#patent_trans_data.select(\"*\").filter(col(\"patient_id\")==121783).show(5)"
   ]
  },
  {
   "cell_type": "code",
   "execution_count": 0,
   "metadata": {
    "application/vnd.databricks.v1+cell": {
     "cellMetadata": {
      "byteLimit": 2048000,
      "rowLimit": 10000
     },
     "inputWidgets": {},
     "nuid": "74ca38bb-0614-4980-ab76-5999d00d0912",
     "showTitle": false,
     "title": ""
    }
   },
   "outputs": [
    {
     "output_type": "execute_result",
     "data": {
      "text/plain": [
       "True"
      ]
     },
     "execution_count": 26,
     "metadata": {},
     "output_type": "execute_result"
    }
   ],
   "source": [
    "output_container_path = \"abfss://stagginghealthcaredata@carehealthcareblobsa.dfs.core.windows.net\"\n",
    "output_blob_folder = \"stagingdatasets/\" \n",
    "patent_trans_data.coalesce(1).write.mode(\"overwrite\").option(\"header\", \"true\").format(\"com.databricks.spark.csv\").save(output_blob_folder)\n",
    "files = dbutils.fs.ls(output_blob_folder)\n",
    "output_file = [x for x in files if x.name.startswith(\"part-\")]\n",
    "dbutils.fs.mv(output_file[0].path, \"%s/patientdatastagging.csv\" % output_container_path)"
   ]
  },
  {
   "cell_type": "code",
   "execution_count": 0,
   "metadata": {
    "application/vnd.databricks.v1+cell": {
     "cellMetadata": {},
     "inputWidgets": {},
     "nuid": "df3f4601-6d6d-4773-a59a-3debf09c1f67",
     "showTitle": false,
     "title": ""
    }
   },
   "outputs": [],
   "source": []
  }
 ],
 "metadata": {
  "application/vnd.databricks.v1+notebook": {
   "dashboards": [],
   "language": "python",
   "notebookMetadata": {
    "pythonIndentUnit": 4
   },
   "notebookName": "patient transformations",
   "widgets": {}
  }
 },
 "nbformat": 4,
 "nbformat_minor": 0
}
