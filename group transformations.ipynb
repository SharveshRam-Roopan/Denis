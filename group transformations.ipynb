{
 "cells": [
  {
   "cell_type": "code",
   "execution_count": 0,
   "metadata": {
    "application/vnd.databricks.v1+cell": {
     "cellMetadata": {
      "byteLimit": 2048000,
      "rowLimit": 10000
     },
     "inputWidgets": {},
     "nuid": "35d0a901-44fe-4b1e-89ed-8ddebd8c2921",
     "showTitle": false,
     "title": ""
    }
   },
   "outputs": [],
   "source": [
    "import pyspark\n",
    "from pyspark.sql import DataFrameWriter\n",
    "import pandas as pd\n",
    "from pyspark.sql.functions import *"
   ]
  },
  {
   "cell_type": "code",
   "execution_count": 0,
   "metadata": {
    "application/vnd.databricks.v1+cell": {
     "cellMetadata": {
      "byteLimit": 2048000,
      "rowLimit": 10000
     },
     "inputWidgets": {},
     "nuid": "9fd2e3b8-1848-4c68-9b9c-71a3f36f05f6",
     "showTitle": false,
     "title": ""
    }
   },
   "outputs": [],
   "source": [
    "spark.conf.set(\"fs.azure.account.key.carehealthcareblobsa.dfs.core.windows.net\",\n",
    "    dbutils.secrets.get(scope=\"healthcarescope\", key=\"blobaccesskey\"))"
   ]
  },
  {
   "cell_type": "code",
   "execution_count": 0,
   "metadata": {
    "application/vnd.databricks.v1+cell": {
     "cellMetadata": {
      "byteLimit": 2048000,
      "rowLimit": 10000
     },
     "inputWidgets": {},
     "nuid": "817f17ba-202d-43c9-816d-f1696614ec5a",
     "showTitle": false,
     "title": ""
    }
   },
   "outputs": [],
   "source": [
    "group_data = spark.read.csv(\"abfss://rawhealthcaredata@carehealthcareblobsa.dfs.core.windows.net/group.csv\", header=True, inferSchema=True)"
   ]
  },
  {
   "cell_type": "code",
   "execution_count": 0,
   "metadata": {
    "application/vnd.databricks.v1+cell": {
     "cellMetadata": {
      "byteLimit": 2048000,
      "rowLimit": 10000
     },
     "inputWidgets": {},
     "nuid": "16a933b7-2ec6-44a8-9c29-19b7fee6e01a",
     "showTitle": false,
     "title": ""
    }
   },
   "outputs": [],
   "source": [
    "#group_data.show(20,False)"
   ]
  },
  {
   "cell_type": "code",
   "execution_count": 0,
   "metadata": {
    "application/vnd.databricks.v1+cell": {
     "cellMetadata": {
      "byteLimit": 2048000,
      "rowLimit": 10000
     },
     "inputWidgets": {},
     "nuid": "be7d69f1-91d7-4003-a8c2-a2706af0fa6d",
     "showTitle": false,
     "title": ""
    }
   },
   "outputs": [
    {
     "output_type": "stream",
     "name": "stdout",
     "output_type": "stream",
     "text": [
      "+-------+---------------+--------+------+--------------------------------------+--------+------+\n|country|premium_written|zip_code|grp_id|grp_name                              |grp_type|city  |\n+-------+---------------+--------+------+--------------------------------------+--------+------+\n|India  |45000          |482049  |GRP102|HDFC Standard Life Insurance Co. Ltd. |Private |Mumbai|\n|India  |57000          |482022  |GRP112|Reliance Nippon Life Insurance Company|Private |Mumbai|\n|India  |57000          |482048  |GRP132|Cigna TTK                             |Private |Mumbai|\n+-------+---------------+--------+------+--------------------------------------+--------+------+\n\n"
     ]
    }
   ],
   "source": [
    "group_data.select(\"*\").filter(col(\"grp_id\").isin(\"GRP102\", \"GRP112\", \"GRP132\")).show(5,False)"
   ]
  },
  {
   "cell_type": "code",
   "execution_count": 0,
   "metadata": {
    "application/vnd.databricks.v1+cell": {
     "cellMetadata": {
      "byteLimit": 2048000,
      "rowLimit": 10000
     },
     "inputWidgets": {},
     "nuid": "0f40a6e9-f60f-4d59-8cce-5c5be30a7964",
     "showTitle": false,
     "title": ""
    }
   },
   "outputs": [
    {
     "output_type": "stream",
     "name": "stdout",
     "output_type": "stream",
     "text": [
      "+-------+---------------+--------+------+--------+--------+----+-----+\n|country|premium_written|zip_code|grp_id|grp_name|grp_type|city|count|\n+-------+---------------+--------+------+--------+--------+----+-----+\n+-------+---------------+--------+------+--------+--------+----+-----+\n\n"
     ]
    }
   ],
   "source": [
    "#group_data.groupby(group_data.columns).count().where(\"count > 1\").show() #check the duplicates"
   ]
  },
  {
   "cell_type": "code",
   "execution_count": 0,
   "metadata": {
    "application/vnd.databricks.v1+cell": {
     "cellMetadata": {
      "byteLimit": 2048000,
      "rowLimit": 10000
     },
     "inputWidgets": {},
     "nuid": "0caa96f5-1f87-4937-9c41-c583662163f1",
     "showTitle": false,
     "title": ""
    }
   },
   "outputs": [],
   "source": [
    "group_data = group_data.dropDuplicates()"
   ]
  },
  {
   "cell_type": "code",
   "execution_count": 0,
   "metadata": {
    "application/vnd.databricks.v1+cell": {
     "cellMetadata": {
      "byteLimit": 2048000,
      "rowLimit": 10000
     },
     "inputWidgets": {},
     "nuid": "9202d883-85be-428a-a1a0-1311f27022a7",
     "showTitle": false,
     "title": ""
    }
   },
   "outputs": [
    {
     "output_type": "stream",
     "name": "stdout",
     "output_type": "stream",
     "text": [
      "+-------+---------------+--------+------+--------+--------+----+\n|country|premium_written|zip_code|grp_id|grp_name|grp_type|city|\n+-------+---------------+--------+------+--------+--------+----+\n|      0|              0|       0|     0|       0|       0|   0|\n+-------+---------------+--------+------+--------+--------+----+\n\n"
     ]
    }
   ],
   "source": [
    "#group_data.select([count(when(isnan(c) | col(c).isNull(), c)).alias(c) for c in group_data.columns]).show()"
   ]
  },
  {
   "cell_type": "code",
   "execution_count": 0,
   "metadata": {
    "application/vnd.databricks.v1+cell": {
     "cellMetadata": {
      "byteLimit": 2048000,
      "rowLimit": 10000
     },
     "inputWidgets": {},
     "nuid": "1c2e6050-3d0e-400b-9a0f-79f3c50bc8e8",
     "showTitle": false,
     "title": ""
    }
   },
   "outputs": [],
   "source": [
    "#loading df into stagging\n",
    "#stagging_path = \"abfss://stagginghealthcaredata@carehealthcareblobsa.dfs.core.windows.net\"\n",
    "#group_data.write.format(\"csv\").option(\"header\", \"true\").mode(\"overwrite\").option(\"path\",stagging_path).save()"
   ]
  },
  {
   "cell_type": "code",
   "execution_count": 0,
   "metadata": {
    "application/vnd.databricks.v1+cell": {
     "cellMetadata": {
      "byteLimit": 2048000,
      "rowLimit": 10000
     },
     "inputWidgets": {},
     "nuid": "be7ffede-6805-4b00-a40b-4a11d2c25191",
     "showTitle": false,
     "title": ""
    }
   },
   "outputs": [
    {
     "output_type": "execute_result",
     "data": {
      "text/plain": [
       "True"
      ]
     },
     "execution_count": 7,
     "metadata": {},
     "output_type": "execute_result"
    }
   ],
   "source": [
    "\n",
    "output_container_path = \"abfss://stagginghealthcaredata@carehealthcareblobsa.dfs.core.windows.net\"\n",
    "output_blob_folder = \"stagingdatasets/\" \n",
    "group_data.coalesce(1).write.mode(\"overwrite\").option(\"header\", \"true\").format(\"com.databricks.spark.csv\").save(output_blob_folder)\n",
    "files = dbutils.fs.ls(output_blob_folder)\n",
    "output_file = [x for x in files if x.name.startswith(\"part-\")]\n",
    "dbutils.fs.mv(output_file[0].path, \"%s/groupdatastagging.csv\" % output_container_path)\n"
   ]
  },
  {
   "cell_type": "code",
   "execution_count": 0,
   "metadata": {
    "application/vnd.databricks.v1+cell": {
     "cellMetadata": {},
     "inputWidgets": {},
     "nuid": "f5e12dea-c28a-48b5-a9af-e7dd1add4640",
     "showTitle": false,
     "title": ""
    }
   },
   "outputs": [],
   "source": [
    "\"\"\"\n",
    "output_container_path = \"abfss://stagingdatasets@careblobstore.dfs.core.windows.net\"\n",
    "output_blob_folder = \"stagingdatasets/wrangled_data_folder\" \n",
    "data.write.format(\"json\").mode(\"overwrite\").save(output_blob_folder)\n",
    "\n",
    "files = dbutils.fs.ls(output_blob_folder)\n",
    "output_file = [x for x in files if x.name.startswith(\"part-\")]\n",
    "dbutils.fs.mv(output_file[0].path, \"%s/staging_claims.json\" % output_container_path)\n",
    "\"\"\""
   ]
  }
 ],
 "metadata": {
  "application/vnd.databricks.v1+notebook": {
   "dashboards": [],
   "language": "python",
   "notebookMetadata": {
    "pythonIndentUnit": 4
   },
   "notebookName": "group transformations",
   "widgets": {}
  }
 },
 "nbformat": 4,
 "nbformat_minor": 0
}
