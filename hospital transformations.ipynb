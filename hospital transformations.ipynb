{
 "cells": [
  {
   "cell_type": "code",
   "execution_count": 0,
   "metadata": {
    "application/vnd.databricks.v1+cell": {
     "cellMetadata": {
      "byteLimit": 2048000,
      "rowLimit": 10000
     },
     "inputWidgets": {},
     "nuid": "35d0a901-44fe-4b1e-89ed-8ddebd8c2921",
     "showTitle": false,
     "title": ""
    }
   },
   "outputs": [],
   "source": [
    "import pyspark\n",
    "from pyspark.sql import DataFrameWriter\n",
    "import pandas as pd\n",
    "from pyspark.sql.functions import *"
   ]
  },
  {
   "cell_type": "code",
   "execution_count": 0,
   "metadata": {
    "application/vnd.databricks.v1+cell": {
     "cellMetadata": {
      "byteLimit": 2048000,
      "rowLimit": 10000
     },
     "inputWidgets": {},
     "nuid": "9fd2e3b8-1848-4c68-9b9c-71a3f36f05f6",
     "showTitle": false,
     "title": ""
    }
   },
   "outputs": [],
   "source": [
    "spark.conf.set(\"fs.azure.account.key.carehealthcareblobsa.dfs.core.windows.net\",\n",
    "    dbutils.secrets.get(scope=\"healthcarescope\", key=\"blobaccesskey\"))"
   ]
  },
  {
   "cell_type": "code",
   "execution_count": 0,
   "metadata": {
    "application/vnd.databricks.v1+cell": {
     "cellMetadata": {
      "byteLimit": 2048000,
      "rowLimit": 10000
     },
     "inputWidgets": {},
     "nuid": "817f17ba-202d-43c9-816d-f1696614ec5a",
     "showTitle": false,
     "title": ""
    }
   },
   "outputs": [],
   "source": [
    "hospital_data = spark.read.csv(\"abfss://rawhealthcaredata@carehealthcareblobsa.dfs.core.windows.net/hospital.csv\", header=True, inferSchema=True)"
   ]
  },
  {
   "cell_type": "code",
   "execution_count": 0,
   "metadata": {
    "application/vnd.databricks.v1+cell": {
     "cellMetadata": {
      "byteLimit": 2048000,
      "rowLimit": 10000
     },
     "inputWidgets": {},
     "nuid": "16a933b7-2ec6-44a8-9c29-19b7fee6e01a",
     "showTitle": false,
     "title": ""
    }
   },
   "outputs": [
    {
     "output_type": "stream",
     "name": "stdout",
     "output_type": "stream",
     "text": [
      "+-----------+-----------------------------------------------------------------+----------+-----------+-------+\n|Hospital_id|Hospital_name                                                    |city      |state      |country|\n+-----------+-----------------------------------------------------------------+----------+-----------+-------+\n|H1000      |All India Institute of Medical Sciences                          |New Delhi |NaN        |India  |\n|H1001      |Medanta The Medicity                                             |Gurgaon   |Haryana    |India  |\n|H1002      |The Christian Medical College                                    |Vellore   |Tamil Nadu |India  |\n|H1003      |PGIMER - Postgraduate Institute of Medical Education and Research|Chandigarh|Haryana    |India  |\n|H1004      |Apollo Hospital - Chennai                                        |Chennai   |Tamil Nadu |India  |\n|H1005      |P. D. Hinduja National Hospital & Medical Research Centre        |Mumbai    |Maharashtra|India  |\n|H1006      |Breach Candy Hospital                                            |Mumbai    |Maharashtra|India  |\n|H1007      |Fortis Flt. Lt. Rajan Dhall Hospital                             |New Delhi |NaN        |India  |\n|H1008      |King Edward Memorial Hospital                                    |Mumbai    |Maharashtra|India  |\n|H1009      |Indraprastha Apollo Hospital                                     |Delhi     |NaN        |India  |\n+-----------+-----------------------------------------------------------------+----------+-----------+-------+\nonly showing top 10 rows\n\n"
     ]
    }
   ],
   "source": [
    "hospital_data.show(10,False)"
   ]
  },
  {
   "cell_type": "code",
   "execution_count": 0,
   "metadata": {
    "application/vnd.databricks.v1+cell": {
     "cellMetadata": {
      "byteLimit": 2048000,
      "rowLimit": 10000
     },
     "inputWidgets": {},
     "nuid": "be7d69f1-91d7-4003-a8c2-a2706af0fa6d",
     "showTitle": false,
     "title": ""
    }
   },
   "outputs": [
    {
     "output_type": "stream",
     "name": "stdout",
     "output_type": "stream",
     "text": [
      "+-----------+-------------+----+-----+-------+\n|Hospital_id|Hospital_name|city|state|country|\n+-----------+-------------+----+-----+-------+\n|          0|            0|   0|    4|      0|\n+-----------+-------------+----+-----+-------+\n\n"
     ]
    }
   ],
   "source": [
    "#hospital_data.select([count(when(isnan(c) | col(c).isNull(), c)).alias(c) for c in hospital_data.columns]).show()"
   ]
  },
  {
   "cell_type": "code",
   "execution_count": 0,
   "metadata": {
    "application/vnd.databricks.v1+cell": {
     "cellMetadata": {
      "byteLimit": 2048000,
      "rowLimit": 10000
     },
     "inputWidgets": {},
     "nuid": "625338c8-9d19-4442-a4a3-f6b525651780",
     "showTitle": false,
     "title": ""
    }
   },
   "outputs": [
    {
     "output_type": "stream",
     "name": "stdout",
     "output_type": "stream",
     "text": [
      "+-----------+-------------+----+-----+-------+-----+\n|Hospital_id|Hospital_name|city|state|country|count|\n+-----------+-------------+----+-----+-------+-----+\n+-----------+-------------+----+-----+-------+-----+\n\n"
     ]
    }
   ],
   "source": [
    "#hospital_data.groupby(hospital_data.columns).count().where(\"count > 1\").show() #check the duplicates"
   ]
  },
  {
   "cell_type": "code",
   "execution_count": 0,
   "metadata": {
    "application/vnd.databricks.v1+cell": {
     "cellMetadata": {
      "byteLimit": 2048000,
      "rowLimit": 10000
     },
     "inputWidgets": {},
     "nuid": "cc001b41-be23-4d51-97fc-e5f8b1f26c92",
     "showTitle": false,
     "title": ""
    }
   },
   "outputs": [],
   "source": [
    "hospital_data = hospital_data.dropDuplicates()"
   ]
  },
  {
   "cell_type": "code",
   "execution_count": 0,
   "metadata": {
    "application/vnd.databricks.v1+cell": {
     "cellMetadata": {
      "byteLimit": 2048000,
      "rowLimit": 10000
     },
     "inputWidgets": {},
     "nuid": "18f987f9-4102-4ebd-8ae2-a6eb6739e0e6",
     "showTitle": false,
     "title": ""
    }
   },
   "outputs": [],
   "source": [
    "hospital_data = hospital_data.replace('NaN', None)"
   ]
  },
  {
   "cell_type": "code",
   "execution_count": 0,
   "metadata": {
    "application/vnd.databricks.v1+cell": {
     "cellMetadata": {
      "byteLimit": 2048000,
      "rowLimit": 10000
     },
     "inputWidgets": {},
     "nuid": "dd90d8fe-1f2b-49f6-8331-3451f1ac3607",
     "showTitle": false,
     "title": ""
    }
   },
   "outputs": [],
   "source": [
    "#hospital_data.show(5,False)"
   ]
  },
  {
   "cell_type": "code",
   "execution_count": 0,
   "metadata": {
    "application/vnd.databricks.v1+cell": {
     "cellMetadata": {
      "byteLimit": 2048000,
      "rowLimit": 10000
     },
     "inputWidgets": {},
     "nuid": "3108d8df-7940-441f-9caa-4a6f17cf3694",
     "showTitle": false,
     "title": ""
    }
   },
   "outputs": [],
   "source": [
    "hospital_data = hospital_data.fillna({\"state\":\"UT\"})\n",
    "\n",
    "#hospital_data = hospital_data.fillna(\"UT\", subset=[\"state\"])\n",
    "\n",
    "#hospital_data = hospital_data.na.fill(value=\"UT\",subset=[\"state\"])\n"
   ]
  },
  {
   "cell_type": "code",
   "execution_count": 0,
   "metadata": {
    "application/vnd.databricks.v1+cell": {
     "cellMetadata": {
      "byteLimit": 2048000,
      "rowLimit": 10000
     },
     "inputWidgets": {},
     "nuid": "9936cd72-57d8-4906-80b4-6e7ad87f9e47",
     "showTitle": false,
     "title": ""
    }
   },
   "outputs": [
    {
     "output_type": "stream",
     "name": "stdout",
     "output_type": "stream",
     "text": [
      "+-----------+-----------------------------------------------------------------+----------+----------+-------+\n|Hospital_id|Hospital_name                                                    |city      |state     |country|\n+-----------+-----------------------------------------------------------------+----------+----------+-------+\n|H1000      |All India Institute of Medical Sciences                          |New Delhi |UT        |India  |\n|H1001      |Medanta The Medicity                                             |Gurgaon   |Haryana   |India  |\n|H1002      |The Christian Medical College                                    |Vellore   |Tamil Nadu|India  |\n|H1003      |PGIMER - Postgraduate Institute of Medical Education and Research|Chandigarh|Haryana   |India  |\n|H1004      |Apollo Hospital - Chennai                                        |Chennai   |Tamil Nadu|India  |\n+-----------+-----------------------------------------------------------------+----------+----------+-------+\nonly showing top 5 rows\n\n"
     ]
    }
   ],
   "source": [
    "#hospital_data.show(5,False)"
   ]
  },
  {
   "cell_type": "code",
   "execution_count": 0,
   "metadata": {
    "application/vnd.databricks.v1+cell": {
     "cellMetadata": {
      "byteLimit": 2048000,
      "rowLimit": 10000
     },
     "inputWidgets": {},
     "nuid": "a261023d-8ae2-4447-9f93-3fa38b6e8d01",
     "showTitle": false,
     "title": ""
    }
   },
   "outputs": [
    {
     "output_type": "execute_result",
     "data": {
      "text/plain": [
       "True"
      ]
     },
     "execution_count": 10,
     "metadata": {},
     "output_type": "execute_result"
    }
   ],
   "source": [
    "output_container_path = \"abfss://stagginghealthcaredata@carehealthcareblobsa.dfs.core.windows.net\"\n",
    "output_blob_folder = \"stagingdatasets/\" \n",
    "hospital_data.coalesce(1).write.mode(\"overwrite\").option(\"header\", \"true\").format(\"com.databricks.spark.csv\").save(output_blob_folder)\n",
    "files = dbutils.fs.ls(output_blob_folder)\n",
    "output_file = [x for x in files if x.name.startswith(\"part-\")]\n",
    "dbutils.fs.mv(output_file[0].path, \"%s/hospitaldatastagging.csv\" % output_container_path)"
   ]
  },
  {
   "cell_type": "code",
   "execution_count": 0,
   "metadata": {
    "application/vnd.databricks.v1+cell": {
     "cellMetadata": {},
     "inputWidgets": {},
     "nuid": "c9e63d29-c649-4cfe-99b4-60715cc0b24f",
     "showTitle": false,
     "title": ""
    }
   },
   "outputs": [],
   "source": []
  }
 ],
 "metadata": {
  "application/vnd.databricks.v1+notebook": {
   "dashboards": [],
   "language": "python",
   "notebookMetadata": {
    "pythonIndentUnit": 4
   },
   "notebookName": "hospital transformations",
   "widgets": {}
  }
 },
 "nbformat": 4,
 "nbformat_minor": 0
}
