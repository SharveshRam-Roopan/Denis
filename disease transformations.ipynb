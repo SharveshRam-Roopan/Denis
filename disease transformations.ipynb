{
 "cells": [
  {
   "cell_type": "code",
   "execution_count": 0,
   "metadata": {
    "application/vnd.databricks.v1+cell": {
     "cellMetadata": {
      "byteLimit": 2048000,
      "rowLimit": 10000
     },
     "inputWidgets": {},
     "nuid": "35d0a901-44fe-4b1e-89ed-8ddebd8c2921",
     "showTitle": false,
     "title": ""
    }
   },
   "outputs": [],
   "source": [
    "import pyspark\n",
    "from pyspark.sql import DataFrameWriter\n",
    "import pandas as pd\n",
    "from pyspark.sql.functions import *"
   ]
  },
  {
   "cell_type": "code",
   "execution_count": 0,
   "metadata": {
    "application/vnd.databricks.v1+cell": {
     "cellMetadata": {
      "byteLimit": 2048000,
      "rowLimit": 10000
     },
     "inputWidgets": {},
     "nuid": "9fd2e3b8-1848-4c68-9b9c-71a3f36f05f6",
     "showTitle": false,
     "title": ""
    }
   },
   "outputs": [],
   "source": [
    "spark.conf.set(\"fs.azure.account.key.carehealthcareblobsa.dfs.core.windows.net\",\n",
    "    dbutils.secrets.get(scope=\"healthcarescope\", key=\"blobaccesskey\"))"
   ]
  },
  {
   "cell_type": "code",
   "execution_count": 0,
   "metadata": {
    "application/vnd.databricks.v1+cell": {
     "cellMetadata": {
      "byteLimit": 2048000,
      "rowLimit": 10000
     },
     "inputWidgets": {},
     "nuid": "817f17ba-202d-43c9-816d-f1696614ec5a",
     "showTitle": false,
     "title": ""
    }
   },
   "outputs": [],
   "source": [
    "disease_data = spark.read.csv(\"abfss://rawhealthcaredata@carehealthcareblobsa.dfs.core.windows.net/disease.csv\", header=True, inferSchema=True)"
   ]
  },
  {
   "cell_type": "code",
   "execution_count": 0,
   "metadata": {
    "application/vnd.databricks.v1+cell": {
     "cellMetadata": {
      "byteLimit": 2048000,
      "rowLimit": 10000
     },
     "inputWidgets": {},
     "nuid": "16a933b7-2ec6-44a8-9c29-19b7fee6e01a",
     "showTitle": false,
     "title": ""
    }
   },
   "outputs": [
    {
     "output_type": "stream",
     "name": "stdout",
     "output_type": "stream",
     "text": [
      "+---------+----------+------------+\n|subgrp_id|disease_id|disease_name|\n+---------+----------+------------+\n|S101     |110001    |Beriberi    |\n|S101     |110002    |Scurvy      |\n|S101     |110003    |Goitre      |\n|S101     |110004    |Osteoporosis|\n|S101     |110005    |Rickets     |\n|S101     |110006    |Anaemia     |\n|S102     |110007    |Fractures   |\n|S102     |110008    |Heart Attack|\n|S102     |110009    |Burns       |\n|S102     |110010    |Choking     |\n+---------+----------+------------+\nonly showing top 10 rows\n\n"
     ]
    }
   ],
   "source": [
    "#disease_data.show(10,False)"
   ]
  },
  {
   "cell_type": "code",
   "execution_count": 0,
   "metadata": {
    "application/vnd.databricks.v1+cell": {
     "cellMetadata": {
      "byteLimit": 2048000,
      "rowLimit": 10000
     },
     "inputWidgets": {},
     "nuid": "be7d69f1-91d7-4003-a8c2-a2706af0fa6d",
     "showTitle": false,
     "title": ""
    }
   },
   "outputs": [
    {
     "output_type": "stream",
     "name": "stdout",
     "output_type": "stream",
     "text": [
      "+---------+----------+------------+-----+\n|subgrp_id|disease_id|disease_name|count|\n+---------+----------+------------+-----+\n+---------+----------+------------+-----+\n\n"
     ]
    }
   ],
   "source": [
    "#disease_data.groupby(disease_data.columns).count().where(\"count > 1\").show() "
   ]
  },
  {
   "cell_type": "code",
   "execution_count": 0,
   "metadata": {
    "application/vnd.databricks.v1+cell": {
     "cellMetadata": {
      "byteLimit": 2048000,
      "rowLimit": 10000
     },
     "inputWidgets": {},
     "nuid": "03c8ae11-4c12-4a63-a1af-6e43c0cc7b39",
     "showTitle": false,
     "title": ""
    }
   },
   "outputs": [],
   "source": [
    "disease_data = disease_data.dropDuplicates()"
   ]
  },
  {
   "cell_type": "code",
   "execution_count": 0,
   "metadata": {
    "application/vnd.databricks.v1+cell": {
     "cellMetadata": {
      "byteLimit": 2048000,
      "rowLimit": 10000
     },
     "inputWidgets": {},
     "nuid": "4a40d375-5c33-47b3-8882-6ebdec610906",
     "showTitle": false,
     "title": ""
    }
   },
   "outputs": [
    {
     "output_type": "stream",
     "name": "stdout",
     "output_type": "stream",
     "text": [
      "+---------+----------+------------+\n|subgrp_id|disease_id|disease_name|\n+---------+----------+------------+\n|        0|         0|           0|\n+---------+----------+------------+\n\n"
     ]
    }
   ],
   "source": [
    "#disease_data.select([count(when(isnan(c) | col(c).isNull(), c)).alias(c) for c in disease_data.columns]).show()"
   ]
  },
  {
   "cell_type": "code",
   "execution_count": 0,
   "metadata": {
    "application/vnd.databricks.v1+cell": {
     "cellMetadata": {
      "byteLimit": 2048000,
      "rowLimit": 10000
     },
     "inputWidgets": {},
     "nuid": "f4bd7392-b149-4284-941d-0ea10d157830",
     "showTitle": false,
     "title": ""
    }
   },
   "outputs": [
    {
     "output_type": "stream",
     "name": "stdout",
     "output_type": "stream",
     "text": [
      "+---------+----------+--------------+\n|subgrp_id|disease_id|disease_name  |\n+---------+----------+--------------+\n|S102     |110012    |Food Poisoning|\n|S108     |110044    |Dengue        |\n|S108     |110045    |Smallpox      |\n|S104     |110020    |Lymphedema    |\n|S105     |110030    |Food allergy  |\n+---------+----------+--------------+\nonly showing top 5 rows\n\n"
     ]
    }
   ],
   "source": [
    "#disease_data.show(5,False)"
   ]
  },
  {
   "cell_type": "code",
   "execution_count": 0,
   "metadata": {
    "application/vnd.databricks.v1+cell": {
     "cellMetadata": {
      "byteLimit": 2048000,
      "rowLimit": 10000
     },
     "inputWidgets": {},
     "nuid": "0f27f124-c099-4bf8-a59b-8aba25d921ff",
     "showTitle": false,
     "title": ""
    }
   },
   "outputs": [
    {
     "output_type": "stream",
     "name": "stdout",
     "output_type": "stream",
     "text": [
      "+---------+----------+---------------+\n|subgrp_id|disease_id|disease_name   |\n+---------+----------+---------------+\n|S109     |110051    |Phenylketonuria|\n|S109     |110054    |Hemophilia     |\n|S109     |110050    |Fanconi anaemia|\n|S109     |110053    |Rett Syndrome  |\n|S109     |110052    |Galactosemia   |\n+---------+----------+---------------+\nonly showing top 5 rows\n\n"
     ]
    }
   ],
   "source": [
    "#disease_data.select(\"*\").filter(col(\"subgrp_id\").isin(\"S109\")).show(5,False)"
   ]
  },
  {
   "cell_type": "code",
   "execution_count": 0,
   "metadata": {
    "application/vnd.databricks.v1+cell": {
     "cellMetadata": {
      "byteLimit": 2048000,
      "rowLimit": 10000
     },
     "inputWidgets": {},
     "nuid": "1c44cdf0-5923-4eac-8c28-971690e8aecf",
     "showTitle": false,
     "title": ""
    }
   },
   "outputs": [
    {
     "output_type": "stream",
     "name": "stdout",
     "output_type": "stream",
     "text": [
      "+---------+----------+--------------+\n|subgrp_id|disease_id|  disease_name|\n+---------+----------+--------------+\n|     S107|    110039|Bladder cancer|\n+---------+----------+--------------+\n\n"
     ]
    }
   ],
   "source": [
    "#disease_data.select(\"*\").filter(col('disease_name') =='Bladder cancer').show(10)"
   ]
  },
  {
   "cell_type": "code",
   "execution_count": 0,
   "metadata": {
    "application/vnd.databricks.v1+cell": {
     "cellMetadata": {
      "byteLimit": 2048000,
      "rowLimit": 10000
     },
     "inputWidgets": {},
     "nuid": "0a3f71ce-6793-4ece-a446-701e7c7da93b",
     "showTitle": false,
     "title": ""
    }
   },
   "outputs": [
    {
     "output_type": "execute_result",
     "data": {
      "text/plain": [
       "True"
      ]
     },
     "execution_count": 14,
     "metadata": {},
     "output_type": "execute_result"
    }
   ],
   "source": [
    "output_container_path = \"abfss://stagginghealthcaredata@carehealthcareblobsa.dfs.core.windows.net\"\n",
    "output_blob_folder = \"stagingdatasets/\" \n",
    "disease_data.coalesce(1).write.mode(\"overwrite\").option(\"header\", \"true\").format(\"com.databricks.spark.csv\").save(output_blob_folder)\n",
    "files = dbutils.fs.ls(output_blob_folder)\n",
    "output_file = [x for x in files if x.name.startswith(\"part-\")]\n",
    "dbutils.fs.mv(output_file[0].path, \"%s/diseasedatastagging.csv\" % output_container_path)"
   ]
  },
  {
   "cell_type": "code",
   "execution_count": 0,
   "metadata": {
    "application/vnd.databricks.v1+cell": {
     "cellMetadata": {},
     "inputWidgets": {},
     "nuid": "5f0e9df8-5084-4756-8ec5-588084fa128a",
     "showTitle": false,
     "title": ""
    }
   },
   "outputs": [],
   "source": []
  }
 ],
 "metadata": {
  "application/vnd.databricks.v1+notebook": {
   "dashboards": [],
   "language": "python",
   "notebookMetadata": {
    "pythonIndentUnit": 4
   },
   "notebookName": "disease transformations",
   "widgets": {}
  }
 },
 "nbformat": 4,
 "nbformat_minor": 0
}
