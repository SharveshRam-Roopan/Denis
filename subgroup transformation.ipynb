{
 "cells": [
  {
   "cell_type": "code",
   "execution_count": 0,
   "metadata": {
    "application/vnd.databricks.v1+cell": {
     "cellMetadata": {
      "byteLimit": 2048000,
      "rowLimit": 10000
     },
     "inputWidgets": {},
     "nuid": "2d60ed75-fdbf-4a05-9cf0-dc11019efc59",
     "showTitle": false,
     "title": ""
    }
   },
   "outputs": [],
   "source": [
    "import pyspark\n",
    "from pyspark.sql import DataFrameWriter\n",
    "import pandas as pd\n",
    "from pyspark.sql.functions import *"
   ]
  },
  {
   "cell_type": "code",
   "execution_count": 0,
   "metadata": {
    "application/vnd.databricks.v1+cell": {
     "cellMetadata": {
      "byteLimit": 2048000,
      "rowLimit": 10000
     },
     "inputWidgets": {},
     "nuid": "6b6e8aa9-40b0-4975-b5ed-24e16795f17d",
     "showTitle": false,
     "title": ""
    }
   },
   "outputs": [],
   "source": [
    "#dbutils.secrets.listScopes()"
   ]
  },
  {
   "cell_type": "code",
   "execution_count": 0,
   "metadata": {
    "application/vnd.databricks.v1+cell": {
     "cellMetadata": {
      "byteLimit": 2048000,
      "rowLimit": 10000
     },
     "inputWidgets": {},
     "nuid": "71ec68d7-57d8-4bd8-9f6e-9c6dc821e609",
     "showTitle": false,
     "title": ""
    }
   },
   "outputs": [],
   "source": [
    "#dbutils.secrets.list(scope='healthcarescope')"
   ]
  },
  {
   "cell_type": "code",
   "execution_count": 0,
   "metadata": {
    "application/vnd.databricks.v1+cell": {
     "cellMetadata": {
      "byteLimit": 2048000,
      "rowLimit": 10000
     },
     "inputWidgets": {},
     "nuid": "45ebd1af-cdf5-4580-ba9f-df68309b61e6",
     "showTitle": false,
     "title": ""
    }
   },
   "outputs": [],
   "source": [
    "spark.conf.set(\"fs.azure.account.key.carehealthcareblobsa.dfs.core.windows.net\",\n",
    "    dbutils.secrets.get(scope=\"healthcarescope\", key=\"blobaccesskey\"))"
   ]
  },
  {
   "cell_type": "code",
   "execution_count": 0,
   "metadata": {
    "application/vnd.databricks.v1+cell": {
     "cellMetadata": {
      "byteLimit": 2048000,
      "rowLimit": 10000
     },
     "inputWidgets": {},
     "nuid": "8e4eca9c-a656-4b9f-903a-e4e2547c15d0",
     "showTitle": false,
     "title": ""
    }
   },
   "outputs": [],
   "source": [
    "#display(dbutils.fs.ls(\"abfss://rawhealthcaredata@carehealthcareblobsa.dfs.core.windows.net\"))"
   ]
  },
  {
   "cell_type": "code",
   "execution_count": 0,
   "metadata": {
    "application/vnd.databricks.v1+cell": {
     "cellMetadata": {
      "byteLimit": 2048000,
      "rowLimit": 10000
     },
     "inputWidgets": {},
     "nuid": "24c732f2-ee84-47ef-8017-a666e5c71b54",
     "showTitle": false,
     "title": ""
    }
   },
   "outputs": [],
   "source": [
    "subgroup_data = spark.read.csv(\"abfss://rawhealthcaredata@carehealthcareblobsa.dfs.core.windows.net/subgroup.csv\", header=True, inferSchema=True)"
   ]
  },
  {
   "cell_type": "code",
   "execution_count": 0,
   "metadata": {
    "application/vnd.databricks.v1+cell": {
     "cellMetadata": {
      "byteLimit": 2048000,
      "rowLimit": 10000
     },
     "inputWidgets": {},
     "nuid": "3059e173-e709-4ed9-8eb9-d1b2c7d6928f",
     "showTitle": false,
     "title": ""
    }
   },
   "outputs": [],
   "source": [
    "#subgroup_data.show(5,False)"
   ]
  },
  {
   "cell_type": "code",
   "execution_count": 0,
   "metadata": {
    "application/vnd.databricks.v1+cell": {
     "cellMetadata": {
      "byteLimit": 2048000,
      "rowLimit": 10000
     },
     "inputWidgets": {},
     "nuid": "aae07510-7c06-4276-86ff-0e46ac88e2be",
     "showTitle": false,
     "title": ""
    }
   },
   "outputs": [],
   "source": [
    "#subgroup_data.select([count(when(isnan(c) | col(c).isNull(), c)).alias(c) for c in subgroup_data.columns]).show()"
   ]
  },
  {
   "cell_type": "code",
   "execution_count": 0,
   "metadata": {
    "application/vnd.databricks.v1+cell": {
     "cellMetadata": {
      "byteLimit": 2048000,
      "rowLimit": 10000
     },
     "inputWidgets": {},
     "nuid": "32f1754c-9241-4817-be61-58abbae1f336",
     "showTitle": false,
     "title": ""
    }
   },
   "outputs": [],
   "source": [
    "#check to duplicates\n",
    "#drop the duplicates"
   ]
  },
  {
   "cell_type": "code",
   "execution_count": 0,
   "metadata": {
    "application/vnd.databricks.v1+cell": {
     "cellMetadata": {
      "byteLimit": 2048000,
      "rowLimit": 10000
     },
     "inputWidgets": {},
     "nuid": "9e4fa7fa-7766-451e-9ac0-3e1d03ef509f",
     "showTitle": false,
     "title": ""
    }
   },
   "outputs": [],
   "source": [
    "#subgroup_data.groupby(['subgrp_sk','subgrp_name','monthly_premium','subgrp_id']).count().where(\"count > 1\").show() #check the duplicates"
   ]
  },
  {
   "cell_type": "code",
   "execution_count": 0,
   "metadata": {
    "application/vnd.databricks.v1+cell": {
     "cellMetadata": {
      "byteLimit": 2048000,
      "rowLimit": 10000
     },
     "inputWidgets": {},
     "nuid": "517abb61-1b0d-451f-bb01-52e71c99e055",
     "showTitle": false,
     "title": ""
    }
   },
   "outputs": [],
   "source": [
    "subgroup_data = subgroup_data.dropDuplicates()"
   ]
  },
  {
   "cell_type": "code",
   "execution_count": 0,
   "metadata": {
    "application/vnd.databricks.v1+cell": {
     "cellMetadata": {
      "byteLimit": 2048000,
      "rowLimit": 10000
     },
     "inputWidgets": {},
     "nuid": "a4b40856-fedd-4b84-b1fa-a3f44b6504f4",
     "showTitle": false,
     "title": ""
    }
   },
   "outputs": [],
   "source": [
    "#subgroup_data.show(6,False)"
   ]
  },
  {
   "cell_type": "code",
   "execution_count": 0,
   "metadata": {
    "application/vnd.databricks.v1+cell": {
     "cellMetadata": {
      "byteLimit": 2048000,
      "rowLimit": 10000
     },
     "inputWidgets": {},
     "nuid": "d6c49384-40bf-4832-9d04-d081a9ede2cb",
     "showTitle": false,
     "title": ""
    }
   },
   "outputs": [],
   "source": [
    "subgroup_data = subgroup_data.withColumn(\"subgrp_id\",split(subgroup_data['subgrp_id'],\",\"))"
   ]
  },
  {
   "cell_type": "code",
   "execution_count": 0,
   "metadata": {
    "application/vnd.databricks.v1+cell": {
     "cellMetadata": {
      "byteLimit": 2048000,
      "rowLimit": 10000
     },
     "inputWidgets": {},
     "nuid": "25fd5527-70ea-4ced-b102-0a34f108c3b2",
     "showTitle": false,
     "title": ""
    }
   },
   "outputs": [],
   "source": [
    "#subgroup_data.show(6,False)"
   ]
  },
  {
   "cell_type": "code",
   "execution_count": 0,
   "metadata": {
    "application/vnd.databricks.v1+cell": {
     "cellMetadata": {
      "byteLimit": 2048000,
      "rowLimit": 10000
     },
     "inputWidgets": {},
     "nuid": "609d3605-b61a-407c-af00-2e292b2fc652",
     "showTitle": false,
     "title": ""
    }
   },
   "outputs": [],
   "source": [
    "#explode ---> transfrom each element of the list to row"
   ]
  },
  {
   "cell_type": "code",
   "execution_count": 0,
   "metadata": {
    "application/vnd.databricks.v1+cell": {
     "cellMetadata": {
      "byteLimit": 2048000,
      "rowLimit": 10000
     },
     "inputWidgets": {},
     "nuid": "cb1c023e-3565-4fb6-b8bb-8982716b4685",
     "showTitle": false,
     "title": ""
    }
   },
   "outputs": [],
   "source": [
    "subgroup_data = subgroup_data.withColumn(\"subgrp_id\", explode(subgroup_data['subgrp_id']))"
   ]
  },
  {
   "cell_type": "code",
   "execution_count": 0,
   "metadata": {
    "application/vnd.databricks.v1+cell": {
     "cellMetadata": {
      "byteLimit": 2048000,
      "rowLimit": 10000
     },
     "inputWidgets": {},
     "nuid": "0838095e-5740-4af1-a9df-6204e73e676e",
     "showTitle": false,
     "title": ""
    }
   },
   "outputs": [
    {
     "output_type": "stream",
     "name": "stdout",
     "output_type": "stream",
     "text": [
      "+---------+-------------------+---------------+---------+\n|subgrp_sk|subgrp_name        |monthly_premium|subgrp_id|\n+---------+-------------------+---------------+---------+\n|S108     |Infectious disease |1500           |GRP130   |\n|S108     |Infectious disease |1500           |GRP104   |\n|S108     |Infectious disease |1500           |GRP109   |\n|S104     |Therapy            |1500           |GRP103   |\n|S104     |Therapy            |1500           |GRP113   |\n|S104     |Therapy            |1500           |GRP123   |\n|S104     |Therapy            |1500           |GRP133   |\n|S104     |Therapy            |1500           |GRP143   |\n|S105     |Allergies          |2300           |GRP153   |\n|S105     |Allergies          |2300           |GRP104   |\n|S105     |Allergies          |2300           |GRP114   |\n|S105     |Allergies          |2300           |GRP124   |\n|S109     |Hereditary         |2000           |GRP102   |\n|S109     |Hereditary         |2000           |GRP112   |\n|S109     |Hereditary         |2000           |GRP132   |\n|S109     |Hereditary         |2000           |GRP142   |\n|S109     |Hereditary         |2000           |GRP152   |\n|S103     |Physiology         |2000           |GRP122   |\n|S103     |Physiology         |2000           |GRP108   |\n|S103     |Physiology         |2000           |GRP138   |\n|S103     |Physiology         |2000           |GRP148   |\n|S102     |Accident           |1000           |GRP110   |\n|S102     |Accident           |1000           |GRP150   |\n|S102     |Accident           |1000           |GRP136   |\n|S101     |Deficiency Diseases|3000           |GRP101   |\n|S101     |Deficiency Diseases|3000           |GRP105   |\n|S107     |Cancer             |3200           |GRP151   |\n|S107     |Cancer             |3200           |GRP131   |\n|S107     |Cancer             |3200           |GRP141   |\n|S107     |Cancer             |3200           |GRP121   |\n|S106     |Self inflicted     |1200           |GRP117   |\n|S106     |Self inflicted     |1200           |GRP127   |\n|S106     |Self inflicted     |1200           |GRP137   |\n|S106     |Self inflicted     |1200           |GRP147   |\n|S106     |Self inflicted     |1200           |GRP157   |\n|S110     |Viral              |1000           |GRP143   |\n|S110     |Viral              |1000           |GRP147   |\n|S110     |Viral              |1000           |GRP126   |\n+---------+-------------------+---------------+---------+\n\n"
     ]
    }
   ],
   "source": [
    "subgroup_data.show(50,False)"
   ]
  },
  {
   "cell_type": "code",
   "execution_count": 0,
   "metadata": {
    "application/vnd.databricks.v1+cell": {
     "cellMetadata": {
      "byteLimit": 2048000,
      "rowLimit": 10000
     },
     "inputWidgets": {},
     "nuid": "ed2b8f3f-1ddd-40cd-94bc-fb01e74c6068",
     "showTitle": false,
     "title": ""
    }
   },
   "outputs": [],
   "source": [
    "#loading df into stagging\n",
    "#stagging_path = \"abfss://stagginghealthcaredata@carehealthcareblobsa.dfs.core.windows.net\"\n",
    "#subgroup_data.write.format(\"csv\").option(\"header\", \"true\").mode(\"overwrite\").option(\"path\",stagging_path).save()"
   ]
  },
  {
   "cell_type": "code",
   "execution_count": 0,
   "metadata": {
    "application/vnd.databricks.v1+cell": {
     "cellMetadata": {
      "byteLimit": 2048000,
      "rowLimit": 10000
     },
     "inputWidgets": {},
     "nuid": "647868c3-2db2-4b28-96b0-d93094de242c",
     "showTitle": false,
     "title": ""
    }
   },
   "outputs": [
    {
     "output_type": "execute_result",
     "data": {
      "text/plain": [
       "True"
      ]
     },
     "execution_count": 19,
     "metadata": {},
     "output_type": "execute_result"
    }
   ],
   "source": [
    "\n",
    "output_container_path = \"abfss://stagginghealthcaredata@carehealthcareblobsa.dfs.core.windows.net\"\n",
    "output_blob_folder = \"stagingdatasets/\" \n",
    "subgroup_data.coalesce(1).write.mode(\"overwrite\").option(\"header\", \"true\").format(\"com.databricks.spark.csv\").save(output_blob_folder)\n",
    "files = dbutils.fs.ls(output_blob_folder)\n",
    "output_file = [x for x in files if x.name.startswith(\"part-\")]\n",
    "dbutils.fs.mv(output_file[0].path, \"%s/subgroupdatastagging.csv\" % output_container_path)"
   ]
  },
  {
   "cell_type": "code",
   "execution_count": 0,
   "metadata": {
    "application/vnd.databricks.v1+cell": {
     "cellMetadata": {},
     "inputWidgets": {},
     "nuid": "dfc895d8-7a1a-4705-b555-2a6288fd701a",
     "showTitle": false,
     "title": ""
    }
   },
   "outputs": [],
   "source": [
    "\"\"\"\n",
    "output_container_path = \"abfss://stagingdatasets@careblobstore.dfs.core.windows.net\"\n",
    "output_blob_folder = \"stagingdatasets/wrangled_data_folder\" \n",
    "(data\n",
    " .coalesce(1)\n",
    " .write\n",
    " .mode(\"overwrite\")\n",
    " .option(\"header\", \"true\")\n",
    " .format(\"com.databricks.spark.csv\")\n",
    " .save(output_blob_folder))\n",
    "\n",
    "files = dbutils.fs.ls(output_blob_folder)\n",
    "output_file = [x for x in files if x.name.startswith(\"part-\")]\n",
    "dbutils.fs.mv(output_file[0].path, \"%s/staging_subgroup.csv\" % output_container_path)\n",
    "\"\"\""
   ]
  }
 ],
 "metadata": {
  "application/vnd.databricks.v1+notebook": {
   "dashboards": [],
   "language": "python",
   "notebookMetadata": {
    "pythonIndentUnit": 4
   },
   "notebookName": "subgroup transformation",
   "widgets": {}
  }
 },
 "nbformat": 4,
 "nbformat_minor": 0
}
