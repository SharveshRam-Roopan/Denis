{
 "cells": [
  {
   "cell_type": "code",
   "execution_count": 0,
   "metadata": {
    "application/vnd.databricks.v1+cell": {
     "cellMetadata": {
      "byteLimit": 2048000,
      "rowLimit": 10000
     },
     "inputWidgets": {},
     "nuid": "35d0a901-44fe-4b1e-89ed-8ddebd8c2921",
     "showTitle": false,
     "title": ""
    }
   },
   "outputs": [],
   "source": [
    "import pyspark\n",
    "from pyspark.sql import DataFrameWriter\n",
    "import pandas as pd\n",
    "from pyspark.sql.functions import *"
   ]
  },
  {
   "cell_type": "code",
   "execution_count": 0,
   "metadata": {
    "application/vnd.databricks.v1+cell": {
     "cellMetadata": {
      "byteLimit": 2048000,
      "rowLimit": 10000
     },
     "inputWidgets": {},
     "nuid": "9fd2e3b8-1848-4c68-9b9c-71a3f36f05f6",
     "showTitle": false,
     "title": ""
    }
   },
   "outputs": [],
   "source": [
    "spark.conf.set(\"fs.azure.account.key.carehealthcareblobsa.dfs.core.windows.net\",\n",
    "    dbutils.secrets.get(scope=\"healthcarescope\", key=\"blobaccesskey\"))"
   ]
  },
  {
   "cell_type": "code",
   "execution_count": 0,
   "metadata": {
    "application/vnd.databricks.v1+cell": {
     "cellMetadata": {
      "byteLimit": 2048000,
      "rowLimit": 10000
     },
     "inputWidgets": {},
     "nuid": "817f17ba-202d-43c9-816d-f1696614ec5a",
     "showTitle": false,
     "title": ""
    }
   },
   "outputs": [],
   "source": [
    "subsciber_data = spark.read.csv(\"abfss://rawhealthcaredata@carehealthcareblobsa.dfs.core.windows.net/subscriber.csv\", header=True, inferSchema=True)"
   ]
  },
  {
   "cell_type": "code",
   "execution_count": 0,
   "metadata": {
    "application/vnd.databricks.v1+cell": {
     "cellMetadata": {
      "byteLimit": 2048000,
      "rowLimit": 10000
     },
     "inputWidgets": {},
     "nuid": "16a933b7-2ec6-44a8-9c29-19b7fee6e01a",
     "showTitle": false,
     "title": ""
    }
   },
   "outputs": [
    {
     "output_type": "stream",
     "name": "stdout",
     "output_type": "stream",
     "text": [
      "+----------+----------+-----------+-----------------+----------+------+--------------+-------+------------+--------+---------+--------+----------+----------+\n|sub_id    |first_name|last_name  |Street           |Birth_date|Gender|Phone         |Country|City        |Zip Code|Subgrp_id|Elig_ind|eff_date  |term_date |\n+----------+----------+-----------+-----------------+----------+------+--------------+-------+------------+--------+---------+--------+----------+----------+\n|SUBID10000|Harbir    |Vishwakarma|Baria Marg       |1924-06-30|Female|+91 0112009318|India  |Rourkela    |767058  |S107     |Y       |1944-06-30|1954-01-14|\n|SUBID10001|Brahmdev  |Sonkar     |Lala Marg        |1948-12-20|Female|+91 1727749552|India  |Tiruvottiyur|34639   |S105     |Y       |1968-12-20|1970-05-16|\n|SUBID10002|Ujjawal   |Devi       |Mammen Zila      |1980-04-16|Male  |+91 8547451606|India  |Berhampur   |914455  |S106     |N       |2000-04-16|2008-05-04|\n|SUBID10003|Ballari   |Mishra     |Sahni Zila       |1969-09-25|Female|+91 0106026841|India  |Bihar Sharif|91481   |S104     |N       |1989-09-25|1995-06-05|\n|SUBID10004|Devnath   |Srivastav  |Magar Zila       |1946-05-01|Female|+91 1868774631|India  |Bidhannagar |531742  |S110     |N       |1966-05-01|1970-12-09|\n|SUBID10005|Atasi     |Seth       |Khatri Nagar     |1967-10-02|Male  |+91 9747336855|India  |Amravati    |229062  |S104     |Y       |1987-10-02|1995-02-13|\n|SUBID1006 |Manish    |Maurya     |Swaminathan Chowk|1967-06-06|Male  |+91 4354294043|India  |Panvel      |438733  |S109     |NULL    |1987-06-06|1995-03-21|\n|SUBID10007|Aakar     |Yadav      |Swamy            |1925-03-05|Female|+91 2777633911|India  |Bihar Sharif|535907  |S104     |N       |1945-03-05|1946-11-07|\n|SUBID10008|Gurudas   |Gupta      |Sarin Nagar      |1945-05-06|Male  |+91 1232859381|India  |Kamarhati   |933226  |S103     |Y       |1965-05-06|1970-09-16|\n|SUBID10009|NULL      |Gupta      |Thakur Circle    |1925-06-12|Male  |+91 1780763280|India  |Bangalore   |957469  |S105     |Y       |1945-06-12|1953-08-30|\n+----------+----------+-----------+-----------------+----------+------+--------------+-------+------------+--------+---------+--------+----------+----------+\nonly showing top 10 rows\n\n"
     ]
    }
   ],
   "source": [
    "#subsciber_data.show(10,False)"
   ]
  },
  {
   "cell_type": "code",
   "execution_count": 0,
   "metadata": {
    "application/vnd.databricks.v1+cell": {
     "cellMetadata": {
      "byteLimit": 2048000,
      "rowLimit": 10000
     },
     "inputWidgets": {},
     "nuid": "0ecfac30-cae1-49f2-b27c-1ae96bf5abdd",
     "showTitle": false,
     "title": ""
    }
   },
   "outputs": [
    {
     "output_type": "stream",
     "name": "stdout",
     "output_type": "stream",
     "text": [
      "+------+----------+---------+------+----------+------+-----+-------+----+--------+---------+--------+--------+---------+\n|sub_id|first_name|last_name|Street|Birth_date|Gender|Phone|Country|City|Zip Code|Subgrp_id|Elig_ind|eff_date|term_date|\n+------+----------+---------+------+----------+------+-----+-------+----+--------+---------+--------+--------+---------+\n|     0|        27|        0|     0|         0|     0|    3|      0|   0|       0|        2|       4|       0|        0|\n+------+----------+---------+------+----------+------+-----+-------+----+--------+---------+--------+--------+---------+\n\n"
     ]
    }
   ],
   "source": [
    "#subsciber_data.select([count(when(col(c).isNull(), c)).alias(c) for c in subsciber_data.columns]).show()"
   ]
  },
  {
   "cell_type": "code",
   "execution_count": 0,
   "metadata": {
    "application/vnd.databricks.v1+cell": {
     "cellMetadata": {
      "byteLimit": 2048000,
      "rowLimit": 10000
     },
     "inputWidgets": {},
     "nuid": "be7d69f1-91d7-4003-a8c2-a2706af0fa6d",
     "showTitle": false,
     "title": ""
    }
   },
   "outputs": [],
   "source": [
    "subsciber_data = subsciber_data.fillna({\"Elig_ind\":\"N\", \"first_name\":\"Guest/NA\"})"
   ]
  },
  {
   "cell_type": "code",
   "execution_count": 0,
   "metadata": {
    "application/vnd.databricks.v1+cell": {
     "cellMetadata": {
      "byteLimit": 2048000,
      "rowLimit": 10000
     },
     "inputWidgets": {},
     "nuid": "70203a37-9331-45f7-81f3-e619d8ef1d73",
     "showTitle": false,
     "title": ""
    }
   },
   "outputs": [],
   "source": [
    "subsciber_data = subsciber_data.drop('Phone')"
   ]
  },
  {
   "cell_type": "code",
   "execution_count": 0,
   "metadata": {
    "application/vnd.databricks.v1+cell": {
     "cellMetadata": {
      "byteLimit": 2048000,
      "rowLimit": 10000
     },
     "inputWidgets": {},
     "nuid": "1f882559-8a4c-40d6-a0fc-408d6ed253d5",
     "showTitle": false,
     "title": ""
    }
   },
   "outputs": [
    {
     "output_type": "stream",
     "name": "stdout",
     "output_type": "stream",
     "text": [
      "+----------+----------+-----------+-----------+----------+------+-------+------------+--------+---------+--------+----------+----------+\n|sub_id    |first_name|last_name  |Street     |Birth_date|Gender|Country|City        |Zip Code|Subgrp_id|Elig_ind|eff_date  |term_date |\n+----------+----------+-----------+-----------+----------+------+-------+------------+--------+---------+--------+----------+----------+\n|SUBID10000|Harbir    |Vishwakarma|Baria Marg |1924-06-30|Female|India  |Rourkela    |767058  |S107     |Y       |1944-06-30|1954-01-14|\n|SUBID10001|Brahmdev  |Sonkar     |Lala Marg  |1948-12-20|Female|India  |Tiruvottiyur|34639   |S105     |Y       |1968-12-20|1970-05-16|\n|SUBID10002|Ujjawal   |Devi       |Mammen Zila|1980-04-16|Male  |India  |Berhampur   |914455  |S106     |N       |2000-04-16|2008-05-04|\n|SUBID10003|Ballari   |Mishra     |Sahni Zila |1969-09-25|Female|India  |Bihar Sharif|91481   |S104     |N       |1989-09-25|1995-06-05|\n|SUBID10004|Devnath   |Srivastav  |Magar Zila |1946-05-01|Female|India  |Bidhannagar |531742  |S110     |N       |1966-05-01|1970-12-09|\n+----------+----------+-----------+-----------+----------+------+-------+------------+--------+---------+--------+----------+----------+\nonly showing top 5 rows\n\n"
     ]
    }
   ],
   "source": [
    "#subsciber_data.show(5,False)"
   ]
  },
  {
   "cell_type": "code",
   "execution_count": 0,
   "metadata": {
    "application/vnd.databricks.v1+cell": {
     "cellMetadata": {
      "byteLimit": 2048000,
      "rowLimit": 10000
     },
     "inputWidgets": {},
     "nuid": "a7f6eeb4-5ba5-422c-8973-5e4d46cec9ba",
     "showTitle": false,
     "title": ""
    }
   },
   "outputs": [],
   "source": [
    "subsciber_data = subsciber_data.withColumn(\"subsciber_age\", (months_between(current_date(), col('Birth_date'))/12).cast(\"int\"))\n",
    "subsciber_data = subsciber_data.drop(col(\"Birth_date\"))"
   ]
  },
  {
   "cell_type": "code",
   "execution_count": 0,
   "metadata": {
    "application/vnd.databricks.v1+cell": {
     "cellMetadata": {
      "byteLimit": 2048000,
      "rowLimit": 10000
     },
     "inputWidgets": {},
     "nuid": "bea731d4-f23c-446d-ae3e-ead9aea9c87d",
     "showTitle": false,
     "title": ""
    }
   },
   "outputs": [
    {
     "output_type": "stream",
     "name": "stdout",
     "output_type": "stream",
     "text": [
      "+----------+----------+-----------+-----------+------+-------+------------+--------+---------+--------+----------+----------+-------------+\n|sub_id    |first_name|last_name  |Street     |Gender|Country|City        |Zip Code|Subgrp_id|Elig_ind|eff_date  |term_date |subsciber_age|\n+----------+----------+-----------+-----------+------+-------+------------+--------+---------+--------+----------+----------+-------------+\n|SUBID10000|Harbir    |Vishwakarma|Baria Marg |Female|India  |Rourkela    |767058  |S107     |Y       |1944-06-30|1954-01-14|99           |\n|SUBID10001|Brahmdev  |Sonkar     |Lala Marg  |Female|India  |Tiruvottiyur|34639   |S105     |Y       |1968-12-20|1970-05-16|74           |\n|SUBID10002|Ujjawal   |Devi       |Mammen Zila|Male  |India  |Berhampur   |914455  |S106     |N       |2000-04-16|2008-05-04|43           |\n|SUBID10003|Ballari   |Mishra     |Sahni Zila |Female|India  |Bihar Sharif|91481   |S104     |N       |1989-09-25|1995-06-05|54           |\n|SUBID10004|Devnath   |Srivastav  |Magar Zila |Female|India  |Bidhannagar |531742  |S110     |N       |1966-05-01|1970-12-09|77           |\n+----------+----------+-----------+-----------+------+-------+------------+--------+---------+--------+----------+----------+-------------+\nonly showing top 5 rows\n\n"
     ]
    }
   ],
   "source": [
    "#subsciber_data.show(5,False)"
   ]
  },
  {
   "cell_type": "code",
   "execution_count": 0,
   "metadata": {
    "application/vnd.databricks.v1+cell": {
     "cellMetadata": {
      "byteLimit": 2048000,
      "rowLimit": 10000
     },
     "inputWidgets": {},
     "nuid": "ed7c8947-f785-4f8c-99a3-bc21981d92db",
     "showTitle": false,
     "title": ""
    }
   },
   "outputs": [
    {
     "output_type": "stream",
     "name": "stdout",
     "output_type": "stream",
     "text": [
      "+----------+----------+---------+---------+------+-------+--------+--------+---------+--------+----------+----------+-------------+\n|    sub_id|first_name|last_name|   Street|Gender|Country|    City|Zip Code|Subgrp_id|Elig_ind|  eff_date| term_date|subsciber_age|\n+----------+----------+---------+---------+------+-------+--------+--------+---------+--------+----------+----------+-------------+\n|SUBID10022|   Prakash|      Rao|   Sachar|Female|  India|Kottayam|  180680|     NULL|       N|1943-09-15|1948-10-19|          100|\n|SUBID10049|   Paridhi|    Yadav|Sant Path|Female|  India|Jabalpur|  883754|     NULL|       N|1979-03-27|1985-06-01|           64|\n+----------+----------+---------+---------+------+-------+--------+--------+---------+--------+----------+----------+-------------+\n\n"
     ]
    }
   ],
   "source": [
    "#subsciber_data.select(\"*\").where(col(\"Subgrp_id\").isNull()).show(4)"
   ]
  },
  {
   "cell_type": "code",
   "execution_count": 0,
   "metadata": {
    "application/vnd.databricks.v1+cell": {
     "cellMetadata": {
      "byteLimit": 2048000,
      "rowLimit": 10000
     },
     "inputWidgets": {},
     "nuid": "0b734ee4-b39c-4753-a58a-83cc0e86cd02",
     "showTitle": false,
     "title": ""
    }
   },
   "outputs": [],
   "source": [
    "#the reason why we are hardcoding because we dont have Subgrp_id for 2 subscribtions\n",
    "subsciber_data = subsciber_data.withColumn(\"Subgrp_id\",when(col(\"sub_id\") =='SUBID10022', 'S110').otherwise(col(\"Subgrp_id\")))\n",
    "subsciber_data = subsciber_data.withColumn(\"Subgrp_id\",when(col(\"sub_id\") =='SUBID10049', 'S107').otherwise(col(\"Subgrp_id\")))"
   ]
  },
  {
   "cell_type": "code",
   "execution_count": 0,
   "metadata": {
    "application/vnd.databricks.v1+cell": {
     "cellMetadata": {
      "byteLimit": 2048000,
      "rowLimit": 10000
     },
     "inputWidgets": {},
     "nuid": "9625d371-8b05-43bd-b565-e3578f0c3368",
     "showTitle": false,
     "title": ""
    }
   },
   "outputs": [
    {
     "output_type": "stream",
     "name": "stdout",
     "output_type": "stream",
     "text": [
      "+----------+----------+-----------+------------+------+-------+------------+--------+---------+--------+----------+----------+-------------+\n|sub_id    |first_name|last_name  |Street      |Gender|Country|City        |Zip Code|Subgrp_id|Elig_ind|eff_date  |term_date |subsciber_age|\n+----------+----------+-----------+------------+------+-------+------------+--------+---------+--------+----------+----------+-------------+\n|SUBID10000|Harbir    |Vishwakarma|Baria Marg  |Female|India  |Rourkela    |767058  |S107     |Y       |1944-06-30|1954-01-14|99           |\n|SUBID10001|Brahmdev  |Sonkar     |Lala Marg   |Female|India  |Tiruvottiyur|34639   |S105     |Y       |1968-12-20|1970-05-16|74           |\n|SUBID10002|Ujjawal   |Devi       |Mammen Zila |Male  |India  |Berhampur   |914455  |S106     |N       |2000-04-16|2008-05-04|43           |\n|SUBID10003|Ballari   |Mishra     |Sahni Zila  |Female|India  |Bihar Sharif|91481   |S104     |N       |1989-09-25|1995-06-05|54           |\n|SUBID10004|Devnath   |Srivastav  |Magar Zila  |Female|India  |Bidhannagar |531742  |S110     |N       |1966-05-01|1970-12-09|77           |\n|SUBID10005|Atasi     |Seth       |Khatri Nagar|Male  |India  |Amravati    |229062  |S104     |Y       |1987-10-02|1995-02-13|56           |\n+----------+----------+-----------+------------+------+-------+------------+--------+---------+--------+----------+----------+-------------+\nonly showing top 6 rows\n\n"
     ]
    }
   ],
   "source": [
    "#subsciber_data.show(6,False)"
   ]
  },
  {
   "cell_type": "code",
   "execution_count": 0,
   "metadata": {
    "application/vnd.databricks.v1+cell": {
     "cellMetadata": {
      "byteLimit": 2048000,
      "rowLimit": 10000
     },
     "inputWidgets": {},
     "nuid": "bcb57ebc-5fc9-4b0e-a8c5-7382ecf4db3d",
     "showTitle": false,
     "title": ""
    }
   },
   "outputs": [
    {
     "output_type": "stream",
     "name": "stdout",
     "output_type": "stream",
     "text": [
      "+------+----------+---------+------+------+-------+----+--------+---------+--------+--------+---------+-------------+\n|sub_id|first_name|last_name|Street|Gender|Country|City|Zip Code|Subgrp_id|Elig_ind|eff_date|term_date|subsciber_age|\n+------+----------+---------+------+------+-------+----+--------+---------+--------+--------+---------+-------------+\n|     0|         0|        0|     0|     0|      0|   0|       0|        0|       0|       0|        0|            0|\n+------+----------+---------+------+------+-------+----+--------+---------+--------+--------+---------+-------------+\n\n"
     ]
    }
   ],
   "source": [
    "#subsciber_data.select([count(when(col(c).isNull(), c)).alias(c) for c in subsciber_data.columns]).show()"
   ]
  },
  {
   "cell_type": "code",
   "execution_count": 0,
   "metadata": {
    "application/vnd.databricks.v1+cell": {
     "cellMetadata": {
      "byteLimit": 2048000,
      "rowLimit": 10000
     },
     "inputWidgets": {},
     "nuid": "a9b0050b-6acd-4549-8fc3-dd417b22461d",
     "showTitle": false,
     "title": ""
    }
   },
   "outputs": [
    {
     "output_type": "execute_result",
     "data": {
      "text/plain": [
       "True"
      ]
     },
     "execution_count": 22,
     "metadata": {},
     "output_type": "execute_result"
    }
   ],
   "source": [
    "output_container_path = \"abfss://stagginghealthcaredata@carehealthcareblobsa.dfs.core.windows.net\"\n",
    "output_blob_folder = \"stagingdatasets/\" \n",
    "subsciber_data.coalesce(1).write.mode(\"overwrite\").option(\"header\", \"true\").format(\"com.databricks.spark.csv\").save(output_blob_folder)\n",
    "files = dbutils.fs.ls(output_blob_folder)\n",
    "output_file = [x for x in files if x.name.startswith(\"part-\")]\n",
    "dbutils.fs.mv(output_file[0].path, \"%s/subsciberdatastagging.csv\" % output_container_path)"
   ]
  },
  {
   "cell_type": "code",
   "execution_count": 0,
   "metadata": {
    "application/vnd.databricks.v1+cell": {
     "cellMetadata": {},
     "inputWidgets": {},
     "nuid": "b4d9b763-b8c9-48bd-aedc-dc91d3662524",
     "showTitle": false,
     "title": ""
    }
   },
   "outputs": [],
   "source": []
  }
 ],
 "metadata": {
  "application/vnd.databricks.v1+notebook": {
   "dashboards": [],
   "language": "python",
   "notebookMetadata": {
    "pythonIndentUnit": 4
   },
   "notebookName": "subscriber transformations",
   "widgets": {}
  }
 },
 "nbformat": 4,
 "nbformat_minor": 0
}
